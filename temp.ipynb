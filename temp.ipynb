{
 "cells": [
  {
   "cell_type": "code",
   "execution_count": 5,
   "metadata": {},
   "outputs": [
    {
     "name": "stdout",
     "output_type": "stream",
     "text": [
      "reading from min.data\n",
      "--->finished loading 10 minima\n",
      "reading from ts.data\n",
      "--->finished loading 105 transition states\n"
     ]
    }
   ],
   "source": [
    "from  viewland.storage import Database\n",
    "from viewland.utils.optim_compatibility import OptimDBConverter\n",
    "db = Database()\n",
    "converter = OptimDBConverter(db)\n",
    "\n",
    "# Read in data from min.data ts.data\n",
    "converter.convert_no_coords()"
   ]
  },
  {
   "cell_type": "code",
   "execution_count": 6,
   "metadata": {},
   "outputs": [
    {
     "data": {
      "text/plain": [
       "[<Minimum(id='1', energy='78.94084142614602'>,\n",
       " <Minimum(id='2', energy='78.94506582597724'>]"
      ]
     },
     "execution_count": 6,
     "metadata": {},
     "output_type": "execute_result"
    }
   ],
   "source": [
    "from viewland.storage import Minimum\n",
    "converter.db.session.query(Minimum).limit(2).all()"
   ]
  }
 ],
 "metadata": {
  "interpreter": {
   "hash": "fb52f06524cf88051df85e45f2f0700ff902fa96d95959aae8e6f920e6028cb9"
  },
  "kernelspec": {
   "display_name": "Python 3.8.5 ('work')",
   "language": "python",
   "name": "python3"
  },
  "language_info": {
   "codemirror_mode": {
    "name": "ipython",
    "version": 3
   },
   "file_extension": ".py",
   "mimetype": "text/x-python",
   "name": "python",
   "nbconvert_exporter": "python",
   "pygments_lexer": "ipython3",
   "version": "3.8.5"
  },
  "orig_nbformat": 4
 },
 "nbformat": 4,
 "nbformat_minor": 2
}
